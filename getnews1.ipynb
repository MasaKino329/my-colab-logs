{
  "nbformat": 4,
  "nbformat_minor": 0,
  "metadata": {
    "colab": {
      "provenance": [],
      "authorship_tag": "ABX9TyMIXRQMl0nNwTtg6g1XHopm",
      "include_colab_link": true
    },
    "kernelspec": {
      "name": "python3",
      "display_name": "Python 3"
    },
    "language_info": {
      "name": "python"
    }
  },
  "cells": [
    {
      "cell_type": "markdown",
      "metadata": {
        "id": "view-in-github",
        "colab_type": "text"
      },
      "source": [
        "<a href=\"https://colab.research.google.com/github/MasaKino329/my-colab-logs/blob/main/getnews1.ipynb\" target=\"_parent\"><img src=\"https://colab.research.google.com/assets/colab-badge.svg\" alt=\"Open In Colab\"/></a>"
      ]
    },
    {
      "cell_type": "code",
      "execution_count": null,
      "metadata": {
        "id": "h1hx1ia0Bd_C"
      },
      "outputs": [],
      "source": []
    },
    {
      "cell_type": "code",
      "source": [
        "import getpass\n",
        "\n",
        "# 1. APIキーを手入力（画面に表示されません）\n",
        "api_key = getpass.getpass(\"APIキーを入力してください：\")\n",
        "\n",
        "if not api_key:\n",
        "    print(\"APIキーが入力されていません。処理を中止します。\")\n",
        "else:\n",
        "    print(\"APIキーを受け取りました。\")\n",
        "\n",
        "    # 2. ダミー要約関数（実際はAPI呼び出しに置き換えます）\n",
        "    def dummy_summarize(text):\n",
        "        # 簡単に「要約:」を付けるだけのデモ\n",
        "        return \"要約: \" + text[:50] + \"...\"\n",
        "\n",
        "    # 3. ニュースのサンプルテキスト\n",
        "    news_text = \"\"\"\n",
        "    今日の株式市場は大きく動き、多くの銘柄で取引量が増加しました。\n",
        "    AI関連銘柄は特に注目されており、最新の技術革新に期待が高まっています。\n",
        "    \"\"\"\n",
        "\n",
        "    # 要約を実行\n",
        "    summary = dummy_summarize(news_text)\n",
        "\n",
        "    # 結果表示\n",
        "    print(\"\\nニュース原文：\")\n",
        "    print(news_text)\n",
        "    print(\"\\n要約結果：\")\n",
        "    print(summary)\n",
        "\n"
      ],
      "metadata": {
        "colab": {
          "base_uri": "https://localhost:8080/"
        },
        "id": "E5gWEswzBerB",
        "outputId": "dd771513-04f1-4e7c-d997-5dfbd4c2565e"
      },
      "execution_count": 3,
      "outputs": [
        {
          "output_type": "stream",
          "name": "stdout",
          "text": [
            "APIキーを入力してください：··········\n",
            "APIキーを受け取りました。\n",
            "\n",
            "ニュース原文：\n",
            "\n",
            "    今日の株式市場は大きく動き、多くの銘柄で取引量が増加しました。\n",
            "    AI関連銘柄は特に注目されており、最新の技術革新に期待が高まっています。\n",
            "    \n",
            "\n",
            "要約結果：\n",
            "要約: \n",
            "    今日の株式市場は大きく動き、多くの銘柄で取引量が増加しました。\n",
            "    AI関連銘柄は特に...\n"
          ]
        }
      ]
    }
  ]
}