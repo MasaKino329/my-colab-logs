{
  "nbformat": 4,
  "nbformat_minor": 0,
  "metadata": {
    "colab": {
      "provenance": [],
      "authorship_tag": "ABX9TyOLnlL7/fTl/O76gNZiueZz",
      "include_colab_link": true
    },
    "kernelspec": {
      "name": "python3",
      "display_name": "Python 3"
    },
    "language_info": {
      "name": "python"
    }
  },
  "cells": [
    {
      "cell_type": "markdown",
      "metadata": {
        "id": "view-in-github",
        "colab_type": "text"
      },
      "source": [
        "<a href=\"https://colab.research.google.com/github/MasaKino329/my-colab-logs/blob/main/AI%E3%82%92%E4%BD%BF%E3%81%A3%E3%81%A6%E3%80%81%E4%BB%95%E4%BA%8B%E3%81%AE%E8%A8%88%E7%94%BB%E3%82%84%E6%84%8F%E6%80%9D%E6%B1%BA%E5%AE%9A%E3%82%92%E6%94%AF%E3%81%88%E3%82%8B%E4%BB%95%E7%B5%84%E3%81%BF%E3%82%92%E3%81%A4%E3%81%8F%E3%82%8A%E3%81%9F%E3%81%84.ipynb\" target=\"_parent\"><img src=\"https://colab.research.google.com/assets/colab-badge.svg\" alt=\"Open In Colab\"/></a>"
      ]
    },
    {
      "cell_type": "code",
      "execution_count": null,
      "metadata": {
        "id": "cBpIji7ZAxFr"
      },
      "outputs": [],
      "source": []
    },
    {
      "cell_type": "markdown",
      "source": [
        "# 🎯 ビジョン観察ノート\n",
        "\n",
        "---\n",
        "\n",
        "## 🌱 現在のビジョン（仮でもOK）\n",
        "\n",
        "**AIを使って、仕事の計画や意思決定を支える仕組みをつくりたい**\n",
        "\n",
        "---\n",
        "\n",
        "## 💬 今の気持ち・疑問・考えごと\n",
        "\n",
        "- このビジョンを実現できたら何が変わる？\n",
        "- 「仕組み」とは具体的にどんな形があり得る？\n",
        "- 自分が困ってる状況って、他の人にもある？\n",
        "- 自動化したいのか、思考の補助が欲しいのか？\n",
        "\n",
        "---\n",
        "\n",
        "## 🧭 方向性に関係しそうなこと（思いつき／気づき）\n",
        "\n",
        "- 自己管理、ToDo整理、スケジューラとの連携\n",
        "- Notion AIやCopilotなどのツール\n",
        "- 自然言語からの行動抽出・習慣化\n",
        "\n",
        "---\n",
        "\n",
        "## 🧪 試してみたこと・関係なさそうだけど面白かったこと\n",
        "\n",
        "- ColabでToDoを抽出するテンプレートを試した\n",
        "- 投資分析のコードに触れて、視点が変わった気がする\n",
        "- 雑記の中に意外なヒントがあるかも？\n",
        "\n",
        "---\n",
        "\n",
        "## 📝 メモ・あとで見返したいこと\n",
        "\n",
        "- → ここにはURLや面白かった会話の要約などを貼っておく\n"
      ],
      "metadata": {
        "id": "Q6n2PJ4IAyZW"
      }
    }
  ]
}