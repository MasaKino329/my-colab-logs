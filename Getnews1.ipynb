{
  "nbformat": 4,
  "nbformat_minor": 0,
  "metadata": {
    "colab": {
      "provenance": [],
      "authorship_tag": "ABX9TyMQZVscTLsVCj+zUhHXJktZ",
      "include_colab_link": true
    },
    "kernelspec": {
      "name": "python3",
      "display_name": "Python 3"
    },
    "language_info": {
      "name": "python"
    }
  },
  "cells": [
    {
      "cell_type": "markdown",
      "metadata": {
        "id": "view-in-github",
        "colab_type": "text"
      },
      "source": [
        "<a href=\"https://colab.research.google.com/github/MasaKino329/my-colab-logs/blob/main/Getnews1.ipynb\" target=\"_parent\"><img src=\"https://colab.research.google.com/assets/colab-badge.svg\" alt=\"Open In Colab\"/></a>"
      ]
    },
    {
      "cell_type": "code",
      "execution_count": null,
      "metadata": {
        "id": "h1hx1ia0Bd_C"
      },
      "outputs": [],
      "source": []
    },
    {
      "cell_type": "code",
      "source": [
        "# ライブラリをインストール（初回のみ）\n",
        "!pip install feedparser\n",
        "\n",
        "# ライブラリ読み込み\n",
        "import feedparser\n",
        "\n",
        "# RSSフィードURL（Googleニュースで「ロボット」を検索したRSS）\n",
        "rss_url = \"https://news.google.com/rss/search?q=ロボット\"\n",
        "\n",
        "# RSSを読み込んで解析\n",
        "feed = feedparser.parse(rss_url)\n",
        "\n",
        "# 最新5件のニュースを表示\n",
        "for entry in feed.entries[:5]:\n",
        "    print(\"📰 タイトル:\", entry.title)\n",
        "    print(\"🔗 リンク:\", entry.link)\n",
        "    print(\"📝 概要:\", entry.summary)\n",
        "    print(\"----\")\n"
      ],
      "metadata": {
        "colab": {
          "base_uri": "https://localhost:8080/"
        },
        "id": "E5gWEswzBerB",
        "outputId": "9d6d2ce2-5b2a-45fc-bec5-b56c6d5f567f"
      },
      "execution_count": 4,
      "outputs": [
        {
          "output_type": "stream",
          "name": "stdout",
          "text": [
            "Collecting feedparser\n",
            "  Downloading feedparser-6.0.11-py3-none-any.whl.metadata (2.4 kB)\n",
            "Collecting sgmllib3k (from feedparser)\n",
            "  Downloading sgmllib3k-1.0.0.tar.gz (5.8 kB)\n",
            "  Preparing metadata (setup.py) ... \u001b[?25l\u001b[?25hdone\n",
            "Downloading feedparser-6.0.11-py3-none-any.whl (81 kB)\n",
            "\u001b[2K   \u001b[90m━━━━━━━━━━━━━━━━━━━━━━━━━━━━━━━━━━━━━━━━\u001b[0m \u001b[32m81.3/81.3 kB\u001b[0m \u001b[31m4.4 MB/s\u001b[0m eta \u001b[36m0:00:00\u001b[0m\n",
            "\u001b[?25hBuilding wheels for collected packages: sgmllib3k\n",
            "  Building wheel for sgmllib3k (setup.py) ... \u001b[?25l\u001b[?25hdone\n",
            "  Created wheel for sgmllib3k: filename=sgmllib3k-1.0.0-py3-none-any.whl size=6046 sha256=05ceaeb5c95e6b120823c2cd8be8b39ba756623fe8c2c1db4c155dd5a52f297a\n",
            "  Stored in directory: /root/.cache/pip/wheels/3b/25/2a/105d6a15df6914f4d15047691c6c28f9052cc1173e40285d03\n",
            "Successfully built sgmllib3k\n",
            "Installing collected packages: sgmllib3k, feedparser\n",
            "Successfully installed feedparser-6.0.11 sgmllib3k-1.0.0\n",
            "📰 タイトル: AI robot performs gallbladder surgery autonomously - Fox News\n",
            "🔗 リンク: https://news.google.com/rss/articles/CBMihgFBVV95cUxOTnBuTXVjdVpXNW1ZLWQxMWZXMUhPVExuTFY2bVdWN2tzQm0wOExhM0RDcXd4ZnljRDl4VUxMVlN2RlZuRWg2U1cwOWktV2Yyc2NBODRPcXRXTko0Y091S0txUm1NUml5bU8wbVc1clByOERGdUJ5ZGJ4TVVRai1OVkg4dmM3Z9IBiwFBVV95cUxQa01lY2VkbzdkaXJoeFd1OVotVkV4LXlKZDdONWxvN3I3QXFtS1VEOTYyQTNTWTFyZnZPMFF2czVDcGJEY3JlajYzdGphNkRZOEZEQU4tQzlRUEdGdUJtU3FHUThxbDlnN3Z0TVgyOTNLTFVEQWVjcXdtZTNzcy13QU15bzF1UEx5Mk5j?oc=5\n",
            "📝 概要: <a href=\"https://news.google.com/rss/articles/CBMihgFBVV95cUxOTnBuTXVjdVpXNW1ZLWQxMWZXMUhPVExuTFY2bVdWN2tzQm0wOExhM0RDcXd4ZnljRDl4VUxMVlN2RlZuRWg2U1cwOWktV2Yyc2NBODRPcXRXTko0Y091S0txUm1NUml5bU8wbVc1clByOERGdUJ5ZGJ4TVVRai1OVkg4dmM3Z9IBiwFBVV95cUxQa01lY2VkbzdkaXJoeFd1OVotVkV4LXlKZDdONWxvN3I3QXFtS1VEOTYyQTNTWTFyZnZPMFF2czVDcGJEY3JlajYzdGphNkRZOEZEQU4tQzlRUEdGdUJtU3FHUThxbDlnN3Z0TVgyOTNLTFVEQWVjcXdtZTNzcy13QU15bzF1UEx5Mk5j?oc=5\" target=\"_blank\">AI robot performs gallbladder surgery autonomously</a>&nbsp;&nbsp;<font color=\"#6f6f6f\">Fox News</font>\n",
            "----\n",
            "📰 タイトル: Crowning AI-chievement: robot artist creates portrait of King Charles - The Art Newspaper\n",
            "🔗 リンク: https://news.google.com/rss/articles/CBMirAFBVV95cUxOU3lzNm03VS1tVC16bnZEYzg3R1hIV2M1aU83cTFhU0o4cjkzN2syUzJrdlg3R1c3bnVFYkhxc1dFQllxVzVDUmpYbktNMG9zU0l1STBWTWdDYVpUVkVsSlRHQlM3S2NiWElCOVJiUlF0YmwtUV91WXp5NWFJTlQxU1gtTTZ3ZjVFXzdSaGU0QkowNlNuNzU1WnpWSUR5LWRNR2JsU0hIVG9pM0JK?oc=5\n",
            "📝 概要: <a href=\"https://news.google.com/rss/articles/CBMirAFBVV95cUxOU3lzNm03VS1tVC16bnZEYzg3R1hIV2M1aU83cTFhU0o4cjkzN2syUzJrdlg3R1c3bnVFYkhxc1dFQllxVzVDUmpYbktNMG9zU0l1STBWTWdDYVpUVkVsSlRHQlM3S2NiWElCOVJiUlF0YmwtUV91WXp5NWFJTlQxU1gtTTZ3ZjVFXzdSaGU0QkowNlNuNzU1WnpWSUR5LWRNR2JsU0hIVG9pM0JK?oc=5\" target=\"_blank\">Crowning AI-chievement: robot artist creates portrait of King Charles</a>&nbsp;&nbsp;<font color=\"#6f6f6f\">The Art Newspaper</font>\n",
            "----\n",
            "📰 タイトル: Robot artist Ai-Da unveils portrait of King Charles III at the United Nations - Euronews.com\n",
            "🔗 リンク: https://news.google.com/rss/articles/CBMivgFBVV95cUxOOGJEcHZpZGFmZXlHeG10cE94dVBFdEpCaTZiQmtRVUZIeGg2eWppcWI5U2JsTkFCdkUtNmFRWERJXzMtajZndEstWjgyWHZ2RHZzMnFobW5RNF9sZ1EzdFhwT29YaWM1LWpGNEVUTldESzh5MXZLOGZ0bmltZXRyV1hGdHFZRFhUNk02WTdXTUc4b2dqV2ZOWFpreHZuUjlWZVZ3Ty12ekZ6UzlXYXUzYlgxREs0X0NKNklMUlZ3?oc=5\n",
            "📝 概要: <a href=\"https://news.google.com/rss/articles/CBMivgFBVV95cUxOOGJEcHZpZGFmZXlHeG10cE94dVBFdEpCaTZiQmtRVUZIeGg2eWppcWI5U2JsTkFCdkUtNmFRWERJXzMtajZndEstWjgyWHZ2RHZzMnFobW5RNF9sZ1EzdFhwT29YaWM1LWpGNEVUTldESzh5MXZLOGZ0bmltZXRyV1hGdHFZRFhUNk02WTdXTUc4b2dqV2ZOWFpreHZuUjlWZVZ3Ty12ekZ6UzlXYXUzYlgxREs0X0NKNklMUlZ3?oc=5\" target=\"_blank\">Robot artist Ai-Da unveils portrait of King Charles III at the United Nations</a>&nbsp;&nbsp;<font color=\"#6f6f6f\">Euronews.com</font>\n",
            "----\n",
            "📰 タイトル: AI robot artist Ai-Da reveals portrait of King Charles III. - Artsy\n",
            "🔗 リンク: https://news.google.com/rss/articles/CBMiowFBVV95cUxQSVNSOFY2NFJzT2lsdE9Ec1NKck1YX0xfS1FPVXpEMlZmMXUyN0JIbTNLb3M4eFB2QmhQV1JtemRFX1FUQkZxM0pFUnFjU3dkbi12d2JkdnFYcTlLelJsYUZJZUgzTjVicGZiZFNFQTRRUmZjNVZWMk1uV1ZWUHZXSGNpU1N4V3RqX2c3NDAxMkxBZjZhY1U2a0FTSjV2Mi1DbUpr?oc=5\n",
            "📝 概要: <a href=\"https://news.google.com/rss/articles/CBMiowFBVV95cUxQSVNSOFY2NFJzT2lsdE9Ec1NKck1YX0xfS1FPVXpEMlZmMXUyN0JIbTNLb3M4eFB2QmhQV1JtemRFX1FUQkZxM0pFUnFjU3dkbi12d2JkdnFYcTlLelJsYUZJZUgzTjVicGZiZFNFQTRRUmZjNVZWMk1uV1ZWUHZXSGNpU1N4V3RqX2c3NDAxMkxBZjZhY1U2a0FTSjV2Mi1DbUpr?oc=5\" target=\"_blank\">AI robot artist Ai-Da reveals portrait of King Charles III.</a>&nbsp;&nbsp;<font color=\"#6f6f6f\">Artsy</font>\n",
            "----\n",
            "📰 タイトル: Meet the robo-bunny: This tiny, furry robot is taking on invasive pythons in Florida - USA Today\n",
            "🔗 リンク: https://news.google.com/rss/articles/CBMiqgFBVV95cUxPZU9CUG12U3pyTEpKQVpWaFZIc1oxV0RROV9NNmR3QzFEOXprMlctV08tcy00bUhTTGthQnpKMzJqeXhUSU83Ry1XVGNYeUpKLTV2R2FPZnZoNXJMcENxNTQxWDlyQzRQa2kxbGpCTURpN1lTeWJITzZ0aHhUTFZvRTN1UkpYcnlhblRmTy1KcmF1Sm96ZGhBcXFHZzJ4QzNfUVVYc1hXZVI3UQ?oc=5\n",
            "📝 概要: <a href=\"https://news.google.com/rss/articles/CBMiqgFBVV95cUxPZU9CUG12U3pyTEpKQVpWaFZIc1oxV0RROV9NNmR3QzFEOXprMlctV08tcy00bUhTTGthQnpKMzJqeXhUSU83Ry1XVGNYeUpKLTV2R2FPZnZoNXJMcENxNTQxWDlyQzRQa2kxbGpCTURpN1lTeWJITzZ0aHhUTFZvRTN1UkpYcnlhblRmTy1KcmF1Sm96ZGhBcXFHZzJ4QzNfUVVYc1hXZVI3UQ?oc=5\" target=\"_blank\">Meet the robo-bunny: This tiny, furry robot is taking on invasive pythons in Florida</a>&nbsp;&nbsp;<font color=\"#6f6f6f\">USA Today</font>\n",
            "----\n"
          ]
        }
      ]
    }
  ]
}