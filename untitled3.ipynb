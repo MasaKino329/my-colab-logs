{
  "nbformat": 4,
  "nbformat_minor": 0,
  "metadata": {
    "colab": {
      "provenance": [],
      "authorship_tag": "ABX9TyOcfo8Lj3IQlSBqm1U7yiKn",
      "include_colab_link": true
    },
    "kernelspec": {
      "name": "python3",
      "display_name": "Python 3"
    },
    "language_info": {
      "name": "python"
    }
  },
  "cells": [
    {
      "cell_type": "markdown",
      "metadata": {
        "id": "view-in-github",
        "colab_type": "text"
      },
      "source": [
        "<a href=\"https://colab.research.google.com/github/MasaKino329/my-colab-logs/blob/main/untitled3.ipynb\" target=\"_parent\"><img src=\"https://colab.research.google.com/assets/colab-badge.svg\" alt=\"Open In Colab\"/></a>"
      ]
    },
    {
      "cell_type": "markdown",
      "source": [
        "# 📒 ログノート 2025-07-11\n",
        "\n",
        "- 目的：ColabとGitHubの連携の練習\n",
        "- 方針：コードの中身は最小限。記録を残すのが主目的。\n",
        "- GitHubを「学びの足跡」として使う。\n"
      ],
      "metadata": {
        "id": "MCQP8zn3D9Gb"
      }
    },
    {
      "cell_type": "code",
      "source": [
        "# 実験用コード\n",
        "print(\"これはGitHub連携のテストです。\")\n"
      ],
      "metadata": {
        "colab": {
          "base_uri": "https://localhost:8080/"
        },
        "id": "psnh5rQ-EEfy",
        "outputId": "da872a76-fc77-47b2-e7fa-ef9203bbd71b"
      },
      "execution_count": null,
      "outputs": [
        {
          "output_type": "stream",
          "name": "stdout",
          "text": [
            "これはGitHub連携のテストです。\n"
          ]
        }
      ]
    },
    {
      "cell_type": "markdown",
      "source": [
        "## ✏️ コメント\n",
        "- print文が正常に動いた。\n",
        "- 今後は「自分で触ったコード」だけを保存していく予定。\n",
        "- 特に処理内容より、「いつ・なにを・なぜやったか」を重視した記録にしたい。\n"
      ],
      "metadata": {
        "id": "epqQ6rNWEQbf"
      }
    }
  ]
}